{
 "cells": [
  {
   "cell_type": "markdown",
   "metadata": {},
   "source": [
    "## Congrats!\n",
    "\n",
    "We made it to the end of another lovely semester. We will reflect on the things we did throughout the semester, and what better what to do so than by making an awesome presentation. Your final tasks will be to put together a presentation summarizing all the lovely things you learned this semester.\n",
    "\n",
    "Be sure to include things like\n",
    "\n",
    "* Why did we even bother with factor models / optimization ?\n",
    "* Fama French methodology and replication results \n",
    "* Factor models as risk models, what do they mean?\n",
    "* Basic portfolio optimization\n",
    "\n",
    "Really go into explaining each one of these things and have a good grasp as to why the topics are important!\n",
    "\n",
    "If you guys want another project to flex, I always have things you can do. So yeah, that's it! We will probably spend the rest of the semester working on this presentation, doing interview prep, playing games, and if any of you are craving MORE, I have some really cool projects you can do if you want to do that :)\n",
    "\n",
    "### Final\n",
    "\n",
    "Let's aim to get a draft of this presentation by April 10th- we can go over presenting it and go over any questions you guys have about the content in the days coming up to our EOS presentations."
   ]
  }
 ],
 "metadata": {
  "language_info": {
   "name": "python"
  }
 },
 "nbformat": 4,
 "nbformat_minor": 2
}
