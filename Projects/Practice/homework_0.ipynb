{
 "cells": [
  {
   "cell_type": "markdown",
   "metadata": {},
   "source": [
    "On Wednesday (Jan 29th, 2025) we started to talk about factor models. Recall we also talked about the CAPM model, which is the first and simplest factor model."
   ]
  },
  {
   "cell_type": "markdown",
   "metadata": {},
   "source": [
    "$$\n",
    "r_i - r_f = \\alpha + \\beta(r_m - r_f) + e_t\n",
    "$$"
   ]
  },
  {
   "cell_type": "markdown",
   "metadata": {},
   "source": [
    "# Problems"
   ]
  },
  {
   "cell_type": "markdown",
   "metadata": {},
   "source": [
    "## Paper reading "
   ]
  },
  {
   "cell_type": "markdown",
   "metadata": {},
   "source": [
    "The paper goes over the shortcompings of the CAPM model and offers a new model for excess returns. Below are some quesitons which I expect you to think about and have answers to when we discuss the paper on Monday. You don't need to read the entire paper, but I would say go up to the start of the 4th section."
   ]
  },
  {
   "cell_type": "markdown",
   "metadata": {},
   "source": [
    "### 1. Describe the data the authors use in their study"
   ]
  },
  {
   "cell_type": "markdown",
   "metadata": {},
   "source": [
    "data from the NYSE, AMEX, and NASDAQ over the period from 1963 to 1990"
   ]
  },
  {
   "cell_type": "markdown",
   "metadata": {},
   "source": [
    "### 2. What is the general idea of a Fama MacBeth regression? Refer to the Fama & MacBeth paper from 1973 to help."
   ]
  },
  {
   "cell_type": "markdown",
   "metadata": {},
   "source": [
    "statistical method used to estimate risk premia in asset pricing models by addressing issues of cross-sectional correlation in stock returns\n",
    "\n",
    "provides a framework for analyzing the relationship between expected stock returns and firm characteristics, including e.g., beta, size, book-to-market ratio\n",
    "\n",
    "Procedures:\n",
    "For each stock i regress excess returns r(i,t )on a set of risk factors f(t) in each time period t. This step estimates the individual stock's exposure (betas) to the risk factors.\n",
    "\n",
    "In each period t, run a cross-sectional regression of stock returns on the estimated betas from the first stage:\n",
    "r(i,t)=γ(0,t) +γ(1,t)βi1 +γ(2,t)βi2 + ϵ(i,t)\n",
    "\n",
    "Compute the average of the estimated risk premia 𝛾(j,t) across time to obtain final estimates. Compute standard errors using the time-series variation of the estimated risk premia, which accounts for cross-sectional correlation in stock returns.\n"
   ]
  },
  {
   "cell_type": "markdown",
   "metadata": {},
   "source": [
    "### 3. What do the authors mean by \"pre-ranking Bs\""
   ]
  },
  {
   "cell_type": "markdown",
   "metadata": {},
   "source": [
    "Basically they sort individual stock betas using past data, and use these past betas to form beta-sorted portfolios, which they then apply as betas for individual stocks within the portfolio, usually based on 24 to 60 monthly returns \n",
    "Subdivide stocks into 10 decile portfolios based on their pre-ranking betas to reduce noise for individual betas\n",
    "\n",
    "Fama & French find no clear relationship between pre-ranking betas and average returns"
   ]
  },
  {
   "cell_type": "markdown",
   "metadata": {},
   "source": [
    "### 4. What is book-value, earnings-per-share, and earnings-price ratio?"
   ]
  },
  {
   "cell_type": "markdown",
   "metadata": {},
   "source": [
    "1. Book Value = Total Assets - Liabilities\n",
    "    Intrinsic accounting worth for a company\n",
    "    B/M = Book to market ratio = Book value for an equity/Market capitlization\n",
    "    Low B/M--> potential overvalutation , high B/M --> undervalued stock \n",
    "2. Earnings per share (EPS) = Net income/shares outstanding\n",
    "    Used to measure how profitable a company is relative to their shares\n",
    "    EPS was concluded to not predict average returns very well when accounting for B/M and size (market equity)\n",
    "3. E/P (Earnings to Price ratio)\n",
    "    High ratio suggests a price is cheap relative to its earnings, while a low ratio suggests it is expensive relative to earnings\n",
    "    concluded to not predict average returns very well when accounting for B/M and size (market equity)\n",
    "\n",
    " "
   ]
  },
  {
   "cell_type": "markdown",
   "metadata": {},
   "source": [
    "### 5. Describe the results found in Table I, what do they mean?"
   ]
  },
  {
   "cell_type": "markdown",
   "metadata": {},
   "source": [
    "Shows that forming portfolios on size and pre-ranking betas rather than ONLY size magnifies the range of full period post ranking betas\n",
    "\n",
    "Table 1 provides preliminary evidence that size and book-to-market equity are more effective predictors of average stock returns than market beta, leverage, or earnings-price ratios."
   ]
  },
  {
   "cell_type": "markdown",
   "metadata": {},
   "source": [
    "### 6. What do each of the regressors (ln(ME), ln(BE/ME), etc.) represent?"
   ]
  },
  {
   "cell_type": "markdown",
   "metadata": {},
   "source": [
    "They are just individual regressors attempting to predict returns based on different portfolio sizes. Other regressors include betas and E/P. The ln is applied because the model is most accurate when these particuaklr regressors are applied on a log scale"
   ]
  },
  {
   "cell_type": "markdown",
   "metadata": {},
   "source": [
    "### 7. How would you summarize what you have read to the layman?"
   ]
  },
  {
   "cell_type": "markdown",
   "metadata": {},
   "source": [
    "I would say that the paper in general challenges the CAPM (Capital Assett Pricing model), which at the time was common practice in predicting stock pricing and returns. More specific stipulations in the paper include the following:\n",
    "\n",
    "1. Market betas alone are not the primary predictors of stock returns, as CAPM stipulated. As a matter of fact, Fama-French found that it had little relation in predicting returns\n",
    "    - Their results suggested that investors were not necessarily compensated for taking on systematic market risk alone, contradicting a core CAPM assumption.\n",
    "\n",
    "2. Market size and B/M are the strongest predictors of returns \n",
    "    - Low market equity stocks have tend to have higher average returns than high market equity ones \n",
    "    - High B/M stocks outperform low B/M ones\n",
    "\n",
    "3. Leverage (Debt-to-Equity) and the Earnings-Price (E/P) ratio had little independent explanatory power once size and book-to-market were accounted for, contradicting CAPM\n",
    "\n",
    "4. Shift towards multi-factor asset pricing models when CAPM was single factor, so CAPM became less mainstream"
   ]
  }
 ],
 "metadata": {
  "language_info": {
   "name": "python"
  }
 },
 "nbformat": 4,
 "nbformat_minor": 2
}
