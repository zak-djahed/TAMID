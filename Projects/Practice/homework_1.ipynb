{
 "cells": [
  {
   "cell_type": "markdown",
   "metadata": {},
   "source": [
    "After discussing the French Fama paper, which discussed the shortcomings of CAPM and layed out an imporovement to the model, we will put the methods in the French Fama paper to the test."
   ]
  },
  {
   "cell_type": "markdown",
   "metadata": {},
   "source": [
    "## PART 1: Empirical results of CAPM (have this done by Wednesday)"
   ]
  },
  {
   "cell_type": "markdown",
   "metadata": {},
   "source": [
    "Using the methodologies we discussed at our TAMID meeting, we aim to do the following\n",
    "\n",
    "1. From a stock index of your choosing, select 100~200 stocks and get at least 5 years worth of data\n",
    "\n",
    "2. Using the linear regression techniques we discussed, regress the EXCESS returns of each stock against the market to get a market beta. Use the CAPM formula as a guide here, and assume the risk free rate to be constant, say r = 0.04 anually\n",
    "\n",
    "3. With the beta of each stock, construct 10 portfolios of stocks based on increasing order of their betas. What I'm trying to get at: Sort the stocks by beta and make a low-beta portfolio, second-low beta portfolio, ... all the way to the portfolio of stocks with the highest beta\n",
    "\n",
    "4. Pick a time period out of sampple (say one year) and see how these portfolios perform. Do the high beta portfolios necessarily outperform the small beta portfolios? \n",
    "\n",
    "5. Make a conclusions"
   ]
  },
  {
   "cell_type": "markdown",
   "metadata": {},
   "source": [
    "## PART 2: Constructing the FF model (have this done by next Wednesday)"
   ]
  },
  {
   "cell_type": "markdown",
   "metadata": {},
   "source": [
    "Using the methodologies discussed Wednesday (Feb 5, 2025), do the following"
   ]
  },
  {
   "cell_type": "markdown",
   "metadata": {},
   "source": [
    "1. get pranked\n",
    "2. \n",
    "3. "
   ]
  },
  {
   "cell_type": "markdown",
   "metadata": {},
   "source": []
  }
 ],
 "metadata": {
  "language_info": {
   "name": "python"
  }
 },
 "nbformat": 4,
 "nbformat_minor": 2
}
