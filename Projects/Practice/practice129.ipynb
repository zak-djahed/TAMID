{
 "cells": [
  {
   "cell_type": "code",
   "execution_count": 1,
   "metadata": {},
   "outputs": [
    {
     "name": "stderr",
     "output_type": "stream",
     "text": [
      "[*********************100%***********************]  1 of 1 completed\n"
     ]
    }
   ],
   "source": [
    "import numpy as np\n",
    "import pandas as pd\n",
    "import yfinance as yf\n",
    "\n",
    "df = yf.download(tickers = \"AAPL\" , start = '2015-01-01'  , end = '2018-12-25' , auto_adjust=True)"
   ]
  },
  {
   "cell_type": "code",
   "execution_count": 5,
   "metadata": {},
   "outputs": [
    {
     "name": "stdout",
     "output_type": "stream",
     "text": [
      "                 Open       High        Low      Close     Volume\n",
      "Date                                                             \n",
      "2015-01-02  24.805933  24.817069  23.906247  24.347183  212818400\n",
      "2015-01-05  24.115571  24.195741  23.474212  23.661274  257142000\n",
      "2015-01-06  23.725854  23.924052  23.300507  23.663500  263188400\n",
      "2015-01-07  23.872835  24.095529  23.761488  23.995317  160423600\n",
      "2015-01-08  24.324906  24.975174  24.206877  24.917273  237458000\n",
      "...               ...        ...        ...        ...        ...\n",
      "2018-12-18  39.489921  40.003303  39.253525  39.654682  135366000\n",
      "2018-12-19  39.637955  39.984189  37.987964  38.417774  196189200\n",
      "2018-12-20  38.300779  38.709100  37.082989  37.448326  259092000\n",
      "2018-12-21  37.455481  37.765900  35.729082  35.991741  382978400\n",
      "2018-12-24  35.375689  36.187553  35.003188  35.060497  148676800\n",
      "\n",
      "[1002 rows x 5 columns]\n"
     ]
    }
   ],
   "source": [
    "print(df)"
   ]
  }
 ],
 "metadata": {
  "kernelspec": {
   "display_name": "venv",
   "language": "python",
   "name": "python3"
  },
  "language_info": {
   "codemirror_mode": {
    "name": "ipython",
    "version": 3
   },
   "file_extension": ".py",
   "mimetype": "text/x-python",
   "name": "python",
   "nbconvert_exporter": "python",
   "pygments_lexer": "ipython3",
   "version": "3.12.6"
  }
 },
 "nbformat": 4,
 "nbformat_minor": 2
}
